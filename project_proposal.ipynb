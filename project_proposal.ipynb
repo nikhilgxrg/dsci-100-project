{
 "cells": [
  {
   "cell_type": "code",
   "execution_count": 2,
   "id": "12eeae6e-c5d5-4734-806a-ae55fa025a67",
   "metadata": {},
   "outputs": [
    {
     "name": "stdout",
     "output_type": "stream",
     "text": [
      "[1] \"Hi\"\n"
     ]
    }
   ],
   "source": [
    "print(\"Hi\")"
   ]
  },
  {
   "cell_type": "markdown",
   "id": "07135f8a-d6e6-4903-abbe-b7ee24a5b86f",
   "metadata": {},
   "source": [
    "project proposal"
   ]
  },
  {
   "cell_type": "code",
   "execution_count": null,
   "id": "178b01e4-eb90-4cf5-bf3e-95efbf7f6169",
   "metadata": {},
   "outputs": [],
   "source": []
  }
 ],
 "metadata": {
  "kernelspec": {
   "display_name": "R",
   "language": "R",
   "name": "ir"
  },
  "language_info": {
   "codemirror_mode": "r",
   "file_extension": ".r",
   "mimetype": "text/x-r-source",
   "name": "R",
   "pygments_lexer": "r",
   "version": "4.3.1"
  }
 },
 "nbformat": 4,
 "nbformat_minor": 5
}
